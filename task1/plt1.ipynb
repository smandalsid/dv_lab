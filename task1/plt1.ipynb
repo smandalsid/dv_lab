{
 "cells": [
  {
   "cell_type": "code",
   "execution_count": 10,
   "metadata": {},
   "outputs": [],
   "source": [
    "import pandas as pd\n",
    "import numpy as np\n",
    "import matplotlib.pyplot as plt"
   ]
  },
  {
   "cell_type": "code",
   "execution_count": 11,
   "metadata": {},
   "outputs": [],
   "source": [
    "df=pd.read_csv('olympic_medals.csv')"
   ]
  },
  {
   "cell_type": "code",
   "execution_count": 12,
   "metadata": {},
   "outputs": [
    {
     "data": {
      "text/plain": [
       "['Spain',\n",
       " 'San Marino',\n",
       " 'United States of America',\n",
       " 'ROC',\n",
       " 'Switzerland',\n",
       " 'Serbia',\n",
       " \"People's Republic of China\",\n",
       " 'France',\n",
       " 'Cuba',\n",
       " 'Czech Republic']"
      ]
     },
     "execution_count": 12,
     "metadata": {},
     "output_type": "execute_result"
    }
   ],
   "source": [
    "x=[]\n",
    "i=0\n",
    "while(len(x)!=10):\n",
    "    if(df['country_name'][i] not in x):\n",
    "        x.append(df['country_name'][i])\n",
    "    i+=1\n",
    "x"
   ]
  },
  {
   "cell_type": "code",
   "execution_count": 13,
   "metadata": {},
   "outputs": [
    {
     "data": {
      "text/plain": [
       "['Shooting',\n",
       " 'Diving',\n",
       " 'Canoe Sprint',\n",
       " 'Cycling Road',\n",
       " 'Football',\n",
       " 'Boxing',\n",
       " 'Artistic Swimming',\n",
       " 'Handball',\n",
       " 'Rugby Sevens',\n",
       " 'Cycling BMX Racing']"
      ]
     },
     "execution_count": 13,
     "metadata": {},
     "output_type": "execute_result"
    }
   ],
   "source": [
    "y=[]\n",
    "i=0\n",
    "while(len(y)!=10):\n",
    "    if(df['discipline_title'][i] not in y):\n",
    "        y.append(df['discipline_title'][i])\n",
    "    i+=1\n",
    "y"
   ]
  },
  {
   "cell_type": "code",
   "execution_count": 14,
   "metadata": {},
   "outputs": [
    {
     "data": {
      "text/plain": [
       "{'Spain': [0, 0, 0, 0, 0, 0, 0, 0, 0, 0],\n",
       " 'San Marino': [0, 0, 0, 0, 0, 0, 0, 0, 0, 0],\n",
       " 'United States of America': [0, 0, 0, 0, 0, 0, 0, 0, 0, 0],\n",
       " 'ROC': [0, 0, 0, 0, 0, 0, 0, 0, 0, 0],\n",
       " 'Switzerland': [0, 0, 0, 0, 0, 0, 0, 0, 0, 0],\n",
       " 'Serbia': [0, 0, 0, 0, 0, 0, 0, 0, 0, 0],\n",
       " \"People's Republic of China\": [0, 0, 0, 0, 0, 0, 0, 0, 0, 0],\n",
       " 'France': [0, 0, 0, 0, 0, 0, 0, 0, 0, 0],\n",
       " 'Cuba': [0, 0, 0, 0, 0, 0, 0, 0, 0, 0],\n",
       " 'Czech Republic': [0, 0, 0, 0, 0, 0, 0, 0, 0, 0]}"
      ]
     },
     "execution_count": 14,
     "metadata": {},
     "output_type": "execute_result"
    }
   ],
   "source": [
    "d={}\n",
    "for country in x:\n",
    "    d[country]=[]\n",
    "    for i in range(10):\n",
    "        d[country].append(0)\n",
    "\n",
    "d"
   ]
  },
  {
   "cell_type": "code",
   "execution_count": 15,
   "metadata": {},
   "outputs": [
    {
     "data": {
      "text/plain": [
       "{'Spain': [5, 0, 21, 3, 4, 4, 0, 5, 0, 0],\n",
       " 'San Marino': [3, 0, 0, 0, 0, 0, 0, 0, 0, 0],\n",
       " 'United States of America': [118, 145, 11, 13, 8, 117, 0, 0, 0, 0],\n",
       " 'ROC': [8, 2, 0, 0, 0, 6, 3, 1, 0, 0],\n",
       " 'Switzerland': [23, 0, 1, 10, 1, 0, 0, 1, 0, 0],\n",
       " 'Serbia': [4, 0, 2, 0, 0, 0, 0, 0, 0, 0],\n",
       " \"People's Republic of China\": [69, 104, 9, 0, 1, 14, 3, 1, 0, 0],\n",
       " 'France': [30, 1, 21, 18, 2, 25, 0, 7, 1, 0],\n",
       " 'Cuba': [5, 0, 7, 0, 0, 78, 0, 0, 0, 0],\n",
       " 'Czech Republic': [11, 0, 7, 0, 0, 1, 0, 0, 0, 0]}"
      ]
     },
     "execution_count": 15,
     "metadata": {},
     "output_type": "execute_result"
    }
   ],
   "source": [
    "for i in range(len(df['discipline_title'])):\n",
    "    for j in range(10):\n",
    "        if df['discipline_title'][i]==y[j] and df['country_name'][i] in d:\n",
    "            d[df['country_name'][i]][j]+=1\n",
    "d"
   ]
  },
  {
   "cell_type": "code",
   "execution_count": 16,
   "metadata": {},
   "outputs": [
    {
     "data": {
      "text/plain": [
       "[['Shooting', 5, 3, 118, 8, 23, 4, 69, 30, 5, 11],\n",
       " ['Diving', 0, 0, 145, 2, 0, 0, 104, 1, 0, 0],\n",
       " ['Canoe Sprint', 21, 0, 11, 0, 1, 2, 9, 21, 7, 7],\n",
       " ['Cycling Road', 3, 0, 13, 0, 10, 0, 0, 18, 0, 0],\n",
       " ['Football', 4, 0, 8, 0, 1, 0, 1, 2, 0, 0],\n",
       " ['Boxing', 4, 0, 117, 6, 0, 0, 14, 25, 78, 1],\n",
       " ['Artistic Swimming', 0, 0, 0, 3, 0, 0, 3, 0, 0, 0],\n",
       " ['Handball', 5, 0, 0, 1, 1, 0, 1, 7, 0, 0],\n",
       " ['Rugby Sevens', 0, 0, 0, 0, 0, 0, 0, 1, 0, 0],\n",
       " ['Cycling BMX Racing', 0, 0, 0, 0, 0, 0, 0, 0, 0, 0]]"
      ]
     },
     "execution_count": 16,
     "metadata": {},
     "output_type": "execute_result"
    }
   ],
   "source": [
    "overall1=[]\n",
    "for i in range(10):\n",
    "    temp=[]\n",
    "    temp.append(y[i])\n",
    "    for j in range(10):\n",
    "        temp.append(d[x[j]][i])\n",
    "    overall1.append(temp)\n",
    "overall1"
   ]
  },
  {
   "cell_type": "code",
   "execution_count": 17,
   "metadata": {},
   "outputs": [
    {
     "data": {
      "text/plain": [
       "['Discipline_Title',\n",
       " 'Spain',\n",
       " 'San Marino',\n",
       " 'United States of America',\n",
       " 'ROC',\n",
       " 'Switzerland',\n",
       " 'Serbia',\n",
       " \"People's Republic of China\",\n",
       " 'France',\n",
       " 'Cuba',\n",
       " 'Czech Republic']"
      ]
     },
     "execution_count": 17,
     "metadata": {},
     "output_type": "execute_result"
    }
   ],
   "source": [
    "overall2=[]\n",
    "overall2.append('Discipline_Title')\n",
    "for i in x:\n",
    "    overall2.append(i)\n",
    "overall2"
   ]
  },
  {
   "cell_type": "code",
   "execution_count": 18,
   "metadata": {},
   "outputs": [
    {
     "data": {
      "text/html": [
       "<div>\n",
       "<style scoped>\n",
       "    .dataframe tbody tr th:only-of-type {\n",
       "        vertical-align: middle;\n",
       "    }\n",
       "\n",
       "    .dataframe tbody tr th {\n",
       "        vertical-align: top;\n",
       "    }\n",
       "\n",
       "    .dataframe thead th {\n",
       "        text-align: right;\n",
       "    }\n",
       "</style>\n",
       "<table border=\"1\" class=\"dataframe\">\n",
       "  <thead>\n",
       "    <tr style=\"text-align: right;\">\n",
       "      <th></th>\n",
       "      <th>Discipline_Title</th>\n",
       "      <th>Spain</th>\n",
       "      <th>San Marino</th>\n",
       "      <th>United States of America</th>\n",
       "      <th>ROC</th>\n",
       "      <th>Switzerland</th>\n",
       "      <th>Serbia</th>\n",
       "      <th>People's Republic of China</th>\n",
       "      <th>France</th>\n",
       "      <th>Cuba</th>\n",
       "      <th>Czech Republic</th>\n",
       "    </tr>\n",
       "  </thead>\n",
       "  <tbody>\n",
       "    <tr>\n",
       "      <th>0</th>\n",
       "      <td>Shooting</td>\n",
       "      <td>5</td>\n",
       "      <td>3</td>\n",
       "      <td>118</td>\n",
       "      <td>8</td>\n",
       "      <td>23</td>\n",
       "      <td>4</td>\n",
       "      <td>69</td>\n",
       "      <td>30</td>\n",
       "      <td>5</td>\n",
       "      <td>11</td>\n",
       "    </tr>\n",
       "    <tr>\n",
       "      <th>1</th>\n",
       "      <td>Diving</td>\n",
       "      <td>0</td>\n",
       "      <td>0</td>\n",
       "      <td>145</td>\n",
       "      <td>2</td>\n",
       "      <td>0</td>\n",
       "      <td>0</td>\n",
       "      <td>104</td>\n",
       "      <td>1</td>\n",
       "      <td>0</td>\n",
       "      <td>0</td>\n",
       "    </tr>\n",
       "    <tr>\n",
       "      <th>2</th>\n",
       "      <td>Canoe Sprint</td>\n",
       "      <td>21</td>\n",
       "      <td>0</td>\n",
       "      <td>11</td>\n",
       "      <td>0</td>\n",
       "      <td>1</td>\n",
       "      <td>2</td>\n",
       "      <td>9</td>\n",
       "      <td>21</td>\n",
       "      <td>7</td>\n",
       "      <td>7</td>\n",
       "    </tr>\n",
       "    <tr>\n",
       "      <th>3</th>\n",
       "      <td>Cycling Road</td>\n",
       "      <td>3</td>\n",
       "      <td>0</td>\n",
       "      <td>13</td>\n",
       "      <td>0</td>\n",
       "      <td>10</td>\n",
       "      <td>0</td>\n",
       "      <td>0</td>\n",
       "      <td>18</td>\n",
       "      <td>0</td>\n",
       "      <td>0</td>\n",
       "    </tr>\n",
       "    <tr>\n",
       "      <th>4</th>\n",
       "      <td>Football</td>\n",
       "      <td>4</td>\n",
       "      <td>0</td>\n",
       "      <td>8</td>\n",
       "      <td>0</td>\n",
       "      <td>1</td>\n",
       "      <td>0</td>\n",
       "      <td>1</td>\n",
       "      <td>2</td>\n",
       "      <td>0</td>\n",
       "      <td>0</td>\n",
       "    </tr>\n",
       "    <tr>\n",
       "      <th>5</th>\n",
       "      <td>Boxing</td>\n",
       "      <td>4</td>\n",
       "      <td>0</td>\n",
       "      <td>117</td>\n",
       "      <td>6</td>\n",
       "      <td>0</td>\n",
       "      <td>0</td>\n",
       "      <td>14</td>\n",
       "      <td>25</td>\n",
       "      <td>78</td>\n",
       "      <td>1</td>\n",
       "    </tr>\n",
       "    <tr>\n",
       "      <th>6</th>\n",
       "      <td>Artistic Swimming</td>\n",
       "      <td>0</td>\n",
       "      <td>0</td>\n",
       "      <td>0</td>\n",
       "      <td>3</td>\n",
       "      <td>0</td>\n",
       "      <td>0</td>\n",
       "      <td>3</td>\n",
       "      <td>0</td>\n",
       "      <td>0</td>\n",
       "      <td>0</td>\n",
       "    </tr>\n",
       "    <tr>\n",
       "      <th>7</th>\n",
       "      <td>Handball</td>\n",
       "      <td>5</td>\n",
       "      <td>0</td>\n",
       "      <td>0</td>\n",
       "      <td>1</td>\n",
       "      <td>1</td>\n",
       "      <td>0</td>\n",
       "      <td>1</td>\n",
       "      <td>7</td>\n",
       "      <td>0</td>\n",
       "      <td>0</td>\n",
       "    </tr>\n",
       "    <tr>\n",
       "      <th>8</th>\n",
       "      <td>Rugby Sevens</td>\n",
       "      <td>0</td>\n",
       "      <td>0</td>\n",
       "      <td>0</td>\n",
       "      <td>0</td>\n",
       "      <td>0</td>\n",
       "      <td>0</td>\n",
       "      <td>0</td>\n",
       "      <td>1</td>\n",
       "      <td>0</td>\n",
       "      <td>0</td>\n",
       "    </tr>\n",
       "    <tr>\n",
       "      <th>9</th>\n",
       "      <td>Cycling BMX Racing</td>\n",
       "      <td>0</td>\n",
       "      <td>0</td>\n",
       "      <td>0</td>\n",
       "      <td>0</td>\n",
       "      <td>0</td>\n",
       "      <td>0</td>\n",
       "      <td>0</td>\n",
       "      <td>0</td>\n",
       "      <td>0</td>\n",
       "      <td>0</td>\n",
       "    </tr>\n",
       "  </tbody>\n",
       "</table>\n",
       "</div>"
      ],
      "text/plain": [
       "     Discipline_Title  Spain  San Marino  United States of America  ROC  \\\n",
       "0            Shooting      5           3                       118    8   \n",
       "1              Diving      0           0                       145    2   \n",
       "2        Canoe Sprint     21           0                        11    0   \n",
       "3        Cycling Road      3           0                        13    0   \n",
       "4            Football      4           0                         8    0   \n",
       "5              Boxing      4           0                       117    6   \n",
       "6   Artistic Swimming      0           0                         0    3   \n",
       "7            Handball      5           0                         0    1   \n",
       "8        Rugby Sevens      0           0                         0    0   \n",
       "9  Cycling BMX Racing      0           0                         0    0   \n",
       "\n",
       "   Switzerland  Serbia  People's Republic of China  France  Cuba  \\\n",
       "0           23       4                          69      30     5   \n",
       "1            0       0                         104       1     0   \n",
       "2            1       2                           9      21     7   \n",
       "3           10       0                           0      18     0   \n",
       "4            1       0                           1       2     0   \n",
       "5            0       0                          14      25    78   \n",
       "6            0       0                           3       0     0   \n",
       "7            1       0                           1       7     0   \n",
       "8            0       0                           0       1     0   \n",
       "9            0       0                           0       0     0   \n",
       "\n",
       "   Czech Republic  \n",
       "0              11  \n",
       "1               0  \n",
       "2               7  \n",
       "3               0  \n",
       "4               0  \n",
       "5               1  \n",
       "6               0  \n",
       "7               0  \n",
       "8               0  \n",
       "9               0  "
      ]
     },
     "execution_count": 18,
     "metadata": {},
     "output_type": "execute_result"
    }
   ],
   "source": [
    "new_df=pd.DataFrame(overall1, columns=overall2)\n",
    "\n",
    "new_df"
   ]
  },
  {
   "cell_type": "code",
   "execution_count": 20,
   "metadata": {},
   "outputs": [
    {
     "data": {
      "text/plain": [
       "<matplotlib.axes._subplots.AxesSubplot at 0x7f9e337b7ee0>"
      ]
     },
     "execution_count": 20,
     "metadata": {},
     "output_type": "execute_result"
    },
    {
     "data": {
      "image/png": "[encoded data removed]",
      "text/plain": [
       "<Figure size 432x288 with 1 Axes>"
      ]
     },
     "metadata": {
      "needs_background": "light"
     },
     "output_type": "display_data"
    }
   ],
   "source": [
    "new_df.plot(x='Discipline_Title', kind='bar', stacked=True, title='Stacked bar chart comparing no. of medals in 10 sports of 10 countries')"
   ]
  }
 ],
 "metadata": {
  "interpreter": {
   "hash": "916dbcbb3f70747c44a77c7bcd40155683ae19c65e1c03b4aa3499c5328201f1"
  },
  "kernelspec": {
   "display_name": "Python 3.8.10 64-bit",
   "language": "python",
   "name": "python3"
  },
  "language_info": {
   "codemirror_mode": {
    "name": "ipython",
    "version": 3
   },
   "file_extension": ".py",
   "mimetype": "text/x-python",
   "name": "python",
   "nbconvert_exporter": "python",
   "pygments_lexer": "ipython3",
   "version": "3.8.10"
  },
  "orig_nbformat": 4
 },
 "nbformat": 4,
 "nbformat_minor": 2
}
