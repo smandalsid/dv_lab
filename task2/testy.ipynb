{
 "cells": [
  {
   "cell_type": "code",
   "execution_count": 2,
   "metadata": {},
   "outputs": [],
   "source": [
    "import pandas as pd\n",
    "import matplotlib.pyplot as plt\n",
    "import numpy as np"
   ]
  },
  {
   "cell_type": "code",
   "execution_count": 3,
   "metadata": {},
   "outputs": [],
   "source": [
    "df=pd.read_csv('/home/siddharth/Documents/ubuntu_python_work/pandas/task2/olympic_medals.csv')"
   ]
  },
  {
   "cell_type": "code",
   "execution_count": null,
   "metadata": {},
   "outputs": [],
   "source": [
    "countries=[]\n",
    "for i in range(len(df)):\n",
    "    if df['country_name'][i] not in countries:\n",
    "        countries.append(df['country_name'][i])\n",
    "\n",
    "countries"
   ]
  },
  {
   "cell_type": "code",
   "execution_count": 6,
   "metadata": {},
   "outputs": [],
   "source": [
    "medals=[0 for i in range(len(countries))]\n",
    "\n",
    "for i in range(len(df)):\n",
    "    medals[countries.index(df['country_name'][i])]+=1\n"
   ]
  },
  {
   "cell_type": "code",
   "execution_count": 8,
   "metadata": {},
   "outputs": [],
   "source": [
    "for i in range(len(medals)):\n",
    "    for j in range(len(medals)-1-i):\n",
    "        if medals[j]<medals[j+1]:\n",
    "            temp=medals[j]\n",
    "            medals[j]=medals[j+1]\n",
    "            medals[j+1]=temp\n",
    "\n",
    "            temp=countries[j]\n",
    "            countries[j]=countries[j+1]\n",
    "            countries[j+1]=temp"
   ]
  },
  {
   "cell_type": "code",
   "execution_count": null,
   "metadata": {},
   "outputs": [],
   "source": []
  }
 ],
 "metadata": {
  "interpreter": {
   "hash": "916dbcbb3f70747c44a77c7bcd40155683ae19c65e1c03b4aa3499c5328201f1"
  },
  "kernelspec": {
   "display_name": "Python 3.8.10 64-bit",
   "language": "python",
   "name": "python3"
  },
  "language_info": {
   "codemirror_mode": {
    "name": "ipython",
    "version": 3
   },
   "file_extension": ".py",
   "mimetype": "text/x-python",
   "name": "python",
   "nbconvert_exporter": "python",
   "pygments_lexer": "ipython3",
   "version": "3.8.10"
  },
  "orig_nbformat": 4
 },
 "nbformat": 4,
 "nbformat_minor": 2
}
